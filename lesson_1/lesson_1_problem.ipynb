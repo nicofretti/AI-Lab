{
 "cells": [
  {
   "cell_type": "markdown",
   "metadata": {},
   "source": [
    "# AI-LAB LESSON 1: Uninformed Search Strategies\n",
    "\n",
    "In this first session we will work on uninformed search. \n",
    "\n",
    "### Maze Environments\n",
    "The environments used is **SmallMaze** (visible in the figure).\n",
    "\n",
    "<img src=\"images/maze.png\" width=\"300\">\n",
    "\n",
    "The agent starts in cell $(0, 2)$ and has to reach the treasure in $(4, 3)$.\n",
    "\n",
    "In order to use the environment we need first to import the packages of OpenAI Gym. Notice that due to the structure of this repository, we need to add the parent directory to the path"
   ]
  },
  {
   "cell_type": "code",
   "execution_count": null,
   "metadata": {},
   "outputs": [],
   "source": [
    "import os, sys, time, math\n",
    "\n",
    "module_path = os.path.abspath(os.path.join('../tools'))\n",
    "if module_path not in sys.path:\n",
    "    sys.path.append(module_path)\n",
    "\n",
    "from utils.ai_lab_functions import *\n",
    "import gym, envs"
   ]
  },
  {
   "cell_type": "markdown",
   "metadata": {},
   "source": [
    "### Assignment 1: Breadth-First Search (BFS)\n",
    "\n",
    "Your first assignment is to implement the BFS algorithm on SmallMaze. In particular, you are required to implement both tree_search and graph_search versions of BFS that will be called by the generic bfs. \n",
    "\n",
    "The results returned by your **BFS** must be in the following form (path, time_cost, space_cost), more in detail:\n",
    "\n",
    "- **path** - tuple of state identifiers forming a path from the start state to the goal state. None if no solution is found.\n",
    "- **time_cost** - the number of nodes checked during the exploration.\n",
    "- **space_cost** - the maximum number of nodes in memory at the same time.\n",
    "\n",
    "After the correctness of your implementations have been assessed, you can run the algorithms on the **SmallMaze** environment.\n",
    "\n",
    "Functions to implement:\n",
    "\n",
    "- BFS_TreeSearch(problem)\n",
    "- BFS_GraphSearch(problem)\n",
    "\n",
    "Function **build_path(node)** can be used to return a tuple of states from the root node (excluded) to another node by following parent links.\n",
    "\n",
    "Here the pseudo-code form the book **Artificial Intelligence: A Modern Approach** for the *Graph Search* and *Tree Search*:\n",
    "\n",
    "<img src=\"images/tree-graph-search.png\" width=\"600\">\n",
    "\n",
    "Here the pseudo-code form the book **Artificial Intelligence: A Modern Approach** for the *BFS* algorithm, note that it refers to the implementation of the *Graph Search Version*:\n",
    "\n",
    "<img src=\"images/bfs.png\" width=\"600\">"
   ]
  },
  {
   "cell_type": "markdown",
   "metadata": {},
   "source": [
    "The next two functions have to be implemented"
   ]
  },
  {
   "cell_type": "code",
   "execution_count": null,
   "metadata": {},
   "outputs": [],
   "source": [
    "def BFS_TreeSearch(problem):\n",
    "    \"\"\"\n",
    "    Tree Search BFS\n",
    "    \n",
    "    Args:\n",
    "        problem: OpenAI Gym environment\n",
    "        \n",
    "    Returns:\n",
    "        (path, time_cost, space_cost): solution as a path and stats.\n",
    "    \"\"\"\n",
    "    \n",
    "    node = Node(problem.startstate, None)\n",
    "    time_cost = 0\n",
    "    space_cost = 1\n",
    "    #\n",
    "    # YOUR CODE HERE ...\n",
    "    #\n",
    "    return build_path(node), time_cost, space_cost"
   ]
  },
  {
   "cell_type": "code",
   "execution_count": null,
   "metadata": {},
   "outputs": [],
   "source": [
    "def BFS_GraphSearch(problem):\n",
    "    \"\"\"\n",
    "    Graph Search BFS\n",
    "    \n",
    "    Args:\n",
    "        problem: OpenAI Gym environment\n",
    "        \n",
    "    Returns:\n",
    "        (path, time_cost, space_cost): solution as a path and stats.\n",
    "    \"\"\"\n",
    "    \n",
    "    node = Node(problem.startstate, None)\n",
    "    time_cost = 0\n",
    "    space_cost = 1\n",
    "    #\n",
    "    # YOUR CODE HERE ...\n",
    "    #\n",
    "    return build_path(node), time_cost, space_cost       "
   ]
  },
  {
   "cell_type": "markdown",
   "metadata": {},
   "source": [
    "The following code calls your tree search and graph search version of BFS and prints the results"
   ]
  },
  {
   "cell_type": "code",
   "execution_count": null,
   "metadata": {
    "scrolled": true
   },
   "outputs": [],
   "source": [
    "envname = \"SmallMaze-v0\"\n",
    "environment = gym.make(envname)\n",
    "\n",
    "solution_ts, time_ts, memory_ts = BFS_TreeSearch(environment)\n",
    "solution_gs, time_gs, memory_gs = BFS_GraphSearch(environment)\n",
    "\n",
    "print(\"\\n----------------------------------------------------------------\")\n",
    "print(\"\\tBFS TREE SEARCH PROBLEM: \")\n",
    "print(\"----------------------------------------------------------------\")\n",
    "print(\"Solution: {}\".format(solution_2_string(solution_ts, environment)))\n",
    "print(\"N° of nodes explored: {}\".format(time_ts))\n",
    "print(\"Max n° of nodes in memory: {}\".format(memory_ts))\n",
    "\n",
    "print(\"\\n----------------------------------------------------------------\")\n",
    "print(\"\\tBFS GRAPH SEARCH PROBLEM: \")\n",
    "print(\"----------------------------------------------------------------\")\n",
    "print(\"Solution: {}\".format(solution_2_string(solution_gs, environment)))\n",
    "print(\"N° of nodes explored: {}\".format(time_gs))\n",
    "print(\"Max n° of nodes in memory: {}\".format(memory_gs))"
   ]
  },
  {
   "cell_type": "markdown",
   "metadata": {},
   "source": [
    "Correct results can be found [here](lesson_1_results.txt)."
   ]
  },
  {
   "cell_type": "markdown",
   "metadata": {},
   "source": [
    "### Assignment 2:  Depth-Limited Search (DLS) and Iterative Deepening depth-first Search (IDS)\n",
    "\n",
    "Your second assignment is to implement the IDS algorithm on SmallMaze. \n",
    "In particular, you are required to implement *DLS* in the graph search version, *DLS* in the tree search version and the final *Iterative_DLS*.\n",
    "\n",
    "Similarly to assignment 1, the results returned by your ids must be in the following form (path, Time Cost, Space Cost) described above. After the correctness of your implementations have been assessed, you can run the algorithms on the **SmallMaze** environment.\n",
    "\n",
    "Functions to implement:\n",
    "\n",
    "- Recursive_DLS_TreeSearch(node, problem, limit)\n",
    "- Recursive_DLS_GraphSearch(node, problem, limit, explored)\n",
    "- IDS(problem)\n",
    "\n",
    "Function **build_path(node)** can be used to return a tuple of states from the root node (excluded) to another node by following parent links.\n",
    "\n",
    "Here the pseudo-code form the book **Artificial Intelligence: A Modern Approach** for the *Depth-Limited Search (Tree Search Version)* and *Iterative deepening depth-first search (Tree Search Version)*:\n",
    "<img src=\"images/dls.png\" width=\"600\">\n",
    "<img src=\"images/ids.png\" width=\"600\">\n",
    "\n",
    "Note that **Node** has a useful variable that can be set in the constructor and can be used to track the depth of a node in the path (and consequently of the recursion stack of IDS): pathcost. If the root node has a pathcost of 0, its children will have a pathcost increased by 1."
   ]
  },
  {
   "cell_type": "code",
   "execution_count": null,
   "metadata": {},
   "outputs": [],
   "source": [
    "start = environment.startstate\n",
    "root = Node(start)  # parent = None and pathcost = 0 as default\n",
    "child = Node(environment.sample(start, 0), root, root.pathcost + 1)  # pathcost is the third argument\n",
    "print(\"Root pathcost: {}\\tChild pathcost: {}\".format(root.pathcost, child.pathcost))"
   ]
  },
  {
   "cell_type": "code",
   "execution_count": null,
   "metadata": {},
   "outputs": [],
   "source": [
    "def DLS(problem, limit, RDLS_Function):\n",
    "    \"\"\"\n",
    "    DLS\n",
    "    \n",
    "    Args:\n",
    "        problem: OpenAI Gym environment\n",
    "        limit: depth limit for the exploration, negative number means 'no limit'\n",
    "        \n",
    "    Returns:\n",
    "        (path, time_cost, space_cost): solution as a path and stats.\n",
    "    \"\"\"\n",
    "        \n",
    "    node = Node(problem.startstate, None)\n",
    "    return RDLS_Function(node, problem, limit, set())"
   ]
  },
  {
   "cell_type": "markdown",
   "metadata": {},
   "source": [
    "The next two functions have to be implemented:"
   ]
  },
  {
   "cell_type": "code",
   "execution_count": null,
   "metadata": {},
   "outputs": [],
   "source": [
    "def Recursive_DLS_GraphSearch(node, problem, limit, explored):\n",
    "    \"\"\"\n",
    "    Recursive DLS\n",
    "    \n",
    "    Args:\n",
    "        node: node to explore\n",
    "        problem: OpenAI Gym environment\n",
    "        limit: depth limit for the exploration, negative number means 'no limit'\n",
    "        explored: completely explored nodes\n",
    "        \n",
    "    Returns:\n",
    "        (path, time_cost, space_cost): solution as a path and stats.\n",
    "    \"\"\"\n",
    "    \n",
    "    #\n",
    "    # YOUR CODE HERE ...\n",
    "    #\n",
    "    explored.add(node.state)\n",
    "    space_cost = node.pathcost\n",
    "    time_cost = 1 \n",
    "    #\n",
    "    # YOUR CODE HERE ...\n",
    "    #\n",
    "    return result[0], time_cost, space_cost\n",
    "    return \"cut_off\", time_cost, space_cost\n",
    "    return \"failure\", time_cost, space_cost"
   ]
  },
  {
   "cell_type": "code",
   "execution_count": null,
   "metadata": {},
   "outputs": [],
   "source": [
    "def Recursive_DLS_TreeSearch(node, problem, limit, explored=None):\n",
    "    \"\"\"\n",
    "    DLS (Tree Search Version)\n",
    "    \n",
    "    Args:\n",
    "        node: node to explore\n",
    "        problem: OpenAI Gym environment\n",
    "        limit: depth limit for the exploration, negative number means 'no limit'\n",
    "        \n",
    "    Returns:\n",
    "        (path, time_cost, space_cost): solution as a path and stats.\n",
    "    \"\"\"\n",
    "    \n",
    "    #\n",
    "    # YOUR CODE HERE ...\n",
    "    #\n",
    "    space_cost = node.pathcost\n",
    "    time_cost = 1 \n",
    "    #\n",
    "    # YOUR CODE HERE ...\n",
    "    #\n",
    "    return result[0], time_cost, space_cost\n",
    "    return \"cut_off\", time_cost, space_cost\n",
    "    return \"failure\", time_cost, space_cost"
   ]
  },
  {
   "cell_type": "code",
   "execution_count": null,
   "metadata": {},
   "outputs": [],
   "source": [
    "def IDS(problem, DLS_Function):\n",
    "    \"\"\"\n",
    "    Iteartive_DLS DLS\n",
    "    \n",
    "    Args:\n",
    "        problem: OpenAI Gym environment\n",
    "        \n",
    "    Returns:\n",
    "        (path, time_cost, space_cost): solution as a path and stats.\n",
    "    \"\"\"\n",
    "        \n",
    "    total_time_cost = 0\n",
    "    total_space_cost = 1\n",
    "    for i in zero_to_infinity():\n",
    "        #\n",
    "        # YOUR CODE HERE ...\n",
    "        #\n",
    "        return 0, 0, 0, 0 # Placeholder\n",
    "    return solution_dls, total_time_cost, total_space_cost, i"
   ]
  },
  {
   "cell_type": "markdown",
   "metadata": {},
   "source": [
    "The following code calls your version of IDS and prints the results:"
   ]
  },
  {
   "cell_type": "code",
   "execution_count": null,
   "metadata": {},
   "outputs": [],
   "source": [
    "envname = \"SmallMaze-v0\"\n",
    "environment = gym.make(envname)\n",
    "\n",
    "solution_ts, time_ts, memory_ts, iterations_ts = IDS(environment, Recursive_DLS_TreeSearch)\n",
    "solution_gs, time_gs, memory_gs, iterations_gs = IDS(environment, Recursive_DLS_GraphSearch)\n",
    "\n",
    "print(\"\\n----------------------------------------------------------------\")\n",
    "print(\"\\tIDS TREE SEARCH PROBLEM: \")\n",
    "print(\"----------------------------------------------------------------\")\n",
    "print(\"Necessary Iterations: {}\".format(iterations_ts))\n",
    "print(\"Solution: {}\".format(solution_2_string(solution_ts, environment)))\n",
    "print(\"N° of nodes explored: {}\".format(time_ts))\n",
    "print(\"Max n° of nodes in memory: {}\".format(memory_ts))\n",
    "        \n",
    "print(\"\\n----------------------------------------------------------------\")\n",
    "print(\"\\tIDS GRAPH SEARCH PROBLEM: \")\n",
    "print(\"----------------------------------------------------------------\")\n",
    "print(\"Necessary Iterations: {}\".format(iterations_gs))\n",
    "print(\"Solution: {}\".format(solution_2_string(solution_gs, environment)))\n",
    "print(\"N° of nodes explored: {}\".format(time_gs))\n",
    "print(\"Max n° of nodes in memory: {}\".format(memory_gs))"
   ]
  },
  {
   "cell_type": "markdown",
   "metadata": {},
   "source": [
    "Correct results can be found [here](lesson_1_results.txt).\n",
    "\n",
    "### Discussion\n",
    "\n",
    "Now that you have correctly implemented both BFS and IDS what can you say about the solutions they compute? Are there significant differences in the stats?"
   ]
  }
 ],
 "metadata": {
  "kernelspec": {
   "display_name": "Python 3 (ipykernel)",
   "language": "python",
   "name": "python3"
  },
  "language_info": {
   "codemirror_mode": {
    "name": "ipython",
    "version": 3
   },
   "file_extension": ".py",
   "mimetype": "text/x-python",
   "name": "python",
   "nbconvert_exporter": "python",
   "pygments_lexer": "ipython3",
<<<<<<< HEAD
   "version": "3.8.8"
=======
   "version": "3.9.7"
>>>>>>> upstream/main
  }
 },
 "nbformat": 4,
 "nbformat_minor": 4
}